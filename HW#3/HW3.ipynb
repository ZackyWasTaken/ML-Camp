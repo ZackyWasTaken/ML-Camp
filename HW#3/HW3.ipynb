{
 "cells": [
  {
   "cell_type": "code",
   "execution_count": 2,
   "metadata": {},
   "outputs": [],
   "source": [
    "import pandas as pd\n",
    "import numpy as np"
   ]
  },
  {
   "cell_type": "code",
   "execution_count": 3,
   "metadata": {},
   "outputs": [
    {
     "data": {
      "text/plain": [
       "Index(['engine_hp', 'engine_cylinders'], dtype='object')"
      ]
     },
     "execution_count": 3,
     "metadata": {},
     "output_type": "execute_result"
    }
   ],
   "source": [
    "intrst_cols=['Make','Model','Year','Engine HP','Engine Cylinders','Transmission Type','Vehicle Style','highway MPG','city mpg']\n",
    "dataset = pd.read_csv('data.csv')\n",
    "dataset = pd.concat([dataset[intrst_cols], dataset['MSRP']],axis=1)\n",
    "dataset.columns = dataset.columns.str.replace(' ', '_').str.lower()\n",
    "dataset.rename(columns={'msrp':'price'},inplace=True)\n",
    "dataset.columns[dataset.isnull().any(axis=0)]"
   ]
  },
  {
   "cell_type": "code",
   "execution_count": 4,
   "metadata": {},
   "outputs": [],
   "source": [
    "dataset.fillna(value={'engine_hp':0, 'engine_cylinders':0},inplace=True)"
   ]
  },
  {
   "cell_type": "code",
   "execution_count": 5,
   "metadata": {},
   "outputs": [
    {
     "data": {
      "text/plain": [
       "Index([], dtype='object')"
      ]
     },
     "execution_count": 5,
     "metadata": {},
     "output_type": "execute_result"
    }
   ],
   "source": [
    "dataset.columns[dataset.isnull().any(axis=0)]"
   ]
  },
  {
   "cell_type": "markdown",
   "metadata": {},
   "source": [
    "## Q1\n",
    "\n",
    "Automatic"
   ]
  },
  {
   "cell_type": "code",
   "execution_count": 6,
   "metadata": {},
   "outputs": [
    {
     "data": {
      "text/plain": [
       "transmission_type\n",
       "AUTOMATIC           8266\n",
       "MANUAL              2935\n",
       "AUTOMATED_MANUAL     626\n",
       "DIRECT_DRIVE          68\n",
       "UNKNOWN               19\n",
       "Name: count, dtype: int64"
      ]
     },
     "execution_count": 6,
     "metadata": {},
     "output_type": "execute_result"
    }
   ],
   "source": [
    "dataset.transmission_type.value_counts()"
   ]
  },
  {
   "cell_type": "markdown",
   "metadata": {},
   "source": [
    "## Q2\n",
    "Highway mpg and city mpg"
   ]
  },
  {
   "cell_type": "code",
   "execution_count": 7,
   "metadata": {},
   "outputs": [
    {
     "data": {
      "text/html": [
       "<div>\n",
       "<style scoped>\n",
       "    .dataframe tbody tr th:only-of-type {\n",
       "        vertical-align: middle;\n",
       "    }\n",
       "\n",
       "    .dataframe tbody tr th {\n",
       "        vertical-align: top;\n",
       "    }\n",
       "\n",
       "    .dataframe thead th {\n",
       "        text-align: right;\n",
       "    }\n",
       "</style>\n",
       "<table border=\"1\" class=\"dataframe\">\n",
       "  <thead>\n",
       "    <tr style=\"text-align: right;\">\n",
       "      <th></th>\n",
       "      <th>year</th>\n",
       "      <th>engine_hp</th>\n",
       "      <th>engine_cylinders</th>\n",
       "      <th>highway_mpg</th>\n",
       "      <th>city_mpg</th>\n",
       "    </tr>\n",
       "  </thead>\n",
       "  <tbody>\n",
       "    <tr>\n",
       "      <th>year</th>\n",
       "      <td>1.000000</td>\n",
       "      <td>0.338714</td>\n",
       "      <td>-0.040708</td>\n",
       "      <td>0.258240</td>\n",
       "      <td>0.198171</td>\n",
       "    </tr>\n",
       "    <tr>\n",
       "      <th>engine_hp</th>\n",
       "      <td>0.338714</td>\n",
       "      <td>1.000000</td>\n",
       "      <td>0.774851</td>\n",
       "      <td>-0.415707</td>\n",
       "      <td>-0.424918</td>\n",
       "    </tr>\n",
       "    <tr>\n",
       "      <th>engine_cylinders</th>\n",
       "      <td>-0.040708</td>\n",
       "      <td>0.774851</td>\n",
       "      <td>1.000000</td>\n",
       "      <td>-0.614541</td>\n",
       "      <td>-0.587306</td>\n",
       "    </tr>\n",
       "    <tr>\n",
       "      <th>highway_mpg</th>\n",
       "      <td>0.258240</td>\n",
       "      <td>-0.415707</td>\n",
       "      <td>-0.614541</td>\n",
       "      <td>1.000000</td>\n",
       "      <td>0.886829</td>\n",
       "    </tr>\n",
       "    <tr>\n",
       "      <th>city_mpg</th>\n",
       "      <td>0.198171</td>\n",
       "      <td>-0.424918</td>\n",
       "      <td>-0.587306</td>\n",
       "      <td>0.886829</td>\n",
       "      <td>1.000000</td>\n",
       "    </tr>\n",
       "  </tbody>\n",
       "</table>\n",
       "</div>"
      ],
      "text/plain": [
       "                      year  engine_hp  engine_cylinders  highway_mpg  city_mpg\n",
       "year              1.000000   0.338714         -0.040708     0.258240  0.198171\n",
       "engine_hp         0.338714   1.000000          0.774851    -0.415707 -0.424918\n",
       "engine_cylinders -0.040708   0.774851          1.000000    -0.614541 -0.587306\n",
       "highway_mpg       0.258240  -0.415707         -0.614541     1.000000  0.886829\n",
       "city_mpg          0.198171  -0.424918         -0.587306     0.886829  1.000000"
      ]
     },
     "execution_count": 7,
     "metadata": {},
     "output_type": "execute_result"
    }
   ],
   "source": [
    "num_cols = ['year','engine_hp','engine_cylinders','highway_mpg','city_mpg']\n",
    "dataset[num_cols].corr()"
   ]
  },
  {
   "cell_type": "code",
   "execution_count": 8,
   "metadata": {},
   "outputs": [],
   "source": [
    "avg_price = dataset.price.mean()\n",
    "dataset['above_average'] = (dataset['price']>avg_price).astype(int)\n",
    "del dataset['price']"
   ]
  },
  {
   "cell_type": "code",
   "execution_count": 9,
   "metadata": {},
   "outputs": [],
   "source": [
    "from sklearn.model_selection import train_test_split\n",
    "\n",
    "df_full_train, df_test = train_test_split(dataset, test_size=0.2, random_state=42)\n",
    "\n",
    "df_train, df_val = train_test_split(df_full_train, test_size=0.25, random_state=42)\n",
    "\n"
   ]
  },
  {
   "cell_type": "markdown",
   "metadata": {},
   "source": [
    "## Q3\n",
    "transmission_type"
   ]
  },
  {
   "cell_type": "code",
   "execution_count": 10,
   "metadata": {},
   "outputs": [
    {
     "data": {
      "text/plain": [
       "{'make': 0.24, 'model': 0.46, 'transmission_type': 0.02, 'vehicle_style': 0.08}"
      ]
     },
     "execution_count": 10,
     "metadata": {},
     "output_type": "execute_result"
    }
   ],
   "source": [
    "from sklearn.metrics import mutual_info_score\n",
    "\n",
    "mis = dict()\n",
    "\n",
    "for cat_var in ['make','model','transmission_type','vehicle_style']:\n",
    "    mis[cat_var]=round(mutual_info_score(df_train['above_average'], df_train[cat_var]),2)\n",
    "\n",
    "y_train, y_test, y_val = df_train.above_average, df_test.above_average, df_val.above_average \n",
    "\n",
    "del df_train['above_average']\n",
    "del df_test['above_average']\n",
    "del df_val['above_average']\n",
    "\n",
    "mis"
   ]
  },
  {
   "cell_type": "markdown",
   "metadata": {},
   "source": [
    "## Q4\n",
    "0.94"
   ]
  },
  {
   "cell_type": "code",
   "execution_count": 11,
   "metadata": {},
   "outputs": [],
   "source": [
    "from sklearn.feature_extraction import DictVectorizer\n",
    "dv = DictVectorizer(sparse=False)\n",
    "\n",
    "train_dict = df_train.to_dict(orient='records')\n",
    "\n",
    "X_train = dv.fit_transform(train_dict)\n",
    "\n",
    "val_dict = df_val.to_dict(orient='records')\n",
    "X_val = dv.transform(val_dict)"
   ]
  },
  {
   "cell_type": "code",
   "execution_count": 12,
   "metadata": {},
   "outputs": [
    {
     "data": {
      "text/html": [
       "<style>#sk-container-id-1 {color: black;}#sk-container-id-1 pre{padding: 0;}#sk-container-id-1 div.sk-toggleable {background-color: white;}#sk-container-id-1 label.sk-toggleable__label {cursor: pointer;display: block;width: 100%;margin-bottom: 0;padding: 0.3em;box-sizing: border-box;text-align: center;}#sk-container-id-1 label.sk-toggleable__label-arrow:before {content: \"▸\";float: left;margin-right: 0.25em;color: #696969;}#sk-container-id-1 label.sk-toggleable__label-arrow:hover:before {color: black;}#sk-container-id-1 div.sk-estimator:hover label.sk-toggleable__label-arrow:before {color: black;}#sk-container-id-1 div.sk-toggleable__content {max-height: 0;max-width: 0;overflow: hidden;text-align: left;background-color: #f0f8ff;}#sk-container-id-1 div.sk-toggleable__content pre {margin: 0.2em;color: black;border-radius: 0.25em;background-color: #f0f8ff;}#sk-container-id-1 input.sk-toggleable__control:checked~div.sk-toggleable__content {max-height: 200px;max-width: 100%;overflow: auto;}#sk-container-id-1 input.sk-toggleable__control:checked~label.sk-toggleable__label-arrow:before {content: \"▾\";}#sk-container-id-1 div.sk-estimator input.sk-toggleable__control:checked~label.sk-toggleable__label {background-color: #d4ebff;}#sk-container-id-1 div.sk-label input.sk-toggleable__control:checked~label.sk-toggleable__label {background-color: #d4ebff;}#sk-container-id-1 input.sk-hidden--visually {border: 0;clip: rect(1px 1px 1px 1px);clip: rect(1px, 1px, 1px, 1px);height: 1px;margin: -1px;overflow: hidden;padding: 0;position: absolute;width: 1px;}#sk-container-id-1 div.sk-estimator {font-family: monospace;background-color: #f0f8ff;border: 1px dotted black;border-radius: 0.25em;box-sizing: border-box;margin-bottom: 0.5em;}#sk-container-id-1 div.sk-estimator:hover {background-color: #d4ebff;}#sk-container-id-1 div.sk-parallel-item::after {content: \"\";width: 100%;border-bottom: 1px solid gray;flex-grow: 1;}#sk-container-id-1 div.sk-label:hover label.sk-toggleable__label {background-color: #d4ebff;}#sk-container-id-1 div.sk-serial::before {content: \"\";position: absolute;border-left: 1px solid gray;box-sizing: border-box;top: 0;bottom: 0;left: 50%;z-index: 0;}#sk-container-id-1 div.sk-serial {display: flex;flex-direction: column;align-items: center;background-color: white;padding-right: 0.2em;padding-left: 0.2em;position: relative;}#sk-container-id-1 div.sk-item {position: relative;z-index: 1;}#sk-container-id-1 div.sk-parallel {display: flex;align-items: stretch;justify-content: center;background-color: white;position: relative;}#sk-container-id-1 div.sk-item::before, #sk-container-id-1 div.sk-parallel-item::before {content: \"\";position: absolute;border-left: 1px solid gray;box-sizing: border-box;top: 0;bottom: 0;left: 50%;z-index: -1;}#sk-container-id-1 div.sk-parallel-item {display: flex;flex-direction: column;z-index: 1;position: relative;background-color: white;}#sk-container-id-1 div.sk-parallel-item:first-child::after {align-self: flex-end;width: 50%;}#sk-container-id-1 div.sk-parallel-item:last-child::after {align-self: flex-start;width: 50%;}#sk-container-id-1 div.sk-parallel-item:only-child::after {width: 0;}#sk-container-id-1 div.sk-dashed-wrapped {border: 1px dashed gray;margin: 0 0.4em 0.5em 0.4em;box-sizing: border-box;padding-bottom: 0.4em;background-color: white;}#sk-container-id-1 div.sk-label label {font-family: monospace;font-weight: bold;display: inline-block;line-height: 1.2em;}#sk-container-id-1 div.sk-label-container {text-align: center;}#sk-container-id-1 div.sk-container {/* jupyter's `normalize.less` sets `[hidden] { display: none; }` but bootstrap.min.css set `[hidden] { display: none !important; }` so we also need the `!important` here to be able to override the default hidden behavior on the sphinx rendered scikit-learn.org. See: https://github.com/scikit-learn/scikit-learn/issues/21755 */display: inline-block !important;position: relative;}#sk-container-id-1 div.sk-text-repr-fallback {display: none;}</style><div id=\"sk-container-id-1\" class=\"sk-top-container\"><div class=\"sk-text-repr-fallback\"><pre>LogisticRegression(C=10, max_iter=1000, random_state=42, solver=&#x27;liblinear&#x27;)</pre><b>In a Jupyter environment, please rerun this cell to show the HTML representation or trust the notebook. <br />On GitHub, the HTML representation is unable to render, please try loading this page with nbviewer.org.</b></div><div class=\"sk-container\" hidden><div class=\"sk-item\"><div class=\"sk-estimator sk-toggleable\"><input class=\"sk-toggleable__control sk-hidden--visually\" id=\"sk-estimator-id-1\" type=\"checkbox\" checked><label for=\"sk-estimator-id-1\" class=\"sk-toggleable__label sk-toggleable__label-arrow\">LogisticRegression</label><div class=\"sk-toggleable__content\"><pre>LogisticRegression(C=10, max_iter=1000, random_state=42, solver=&#x27;liblinear&#x27;)</pre></div></div></div></div></div>"
      ],
      "text/plain": [
       "LogisticRegression(C=10, max_iter=1000, random_state=42, solver='liblinear')"
      ]
     },
     "execution_count": 12,
     "metadata": {},
     "output_type": "execute_result"
    }
   ],
   "source": [
    "from sklearn.linear_model import LogisticRegression\n",
    "model = LogisticRegression(solver='liblinear', C=10, max_iter=1000, random_state=42)\n",
    "\n",
    "model.fit(X_train,y_train)"
   ]
  },
  {
   "cell_type": "code",
   "execution_count": 13,
   "metadata": {},
   "outputs": [
    {
     "data": {
      "text/plain": [
       "0.11"
      ]
     },
     "execution_count": 13,
     "metadata": {},
     "output_type": "execute_result"
    }
   ],
   "source": [
    "y_pred = model.predict_proba(X_val)[:,1]\n",
    "abv_avg = (y_pred>=0.5)\n",
    "df_pred = pd.DataFrame()\n",
    "df_pred['probability'] = model.predict_proba(X_val)[:,1]\n",
    "df_pred['prediction'] = abv_avg.astype(int)\n",
    "df_pred['actual'] = y_val\n",
    "df_pred['correct'] = df_pred.prediction == df_pred.actual\n",
    "round(df_pred.correct.mean(),2)"
   ]
  },
  {
   "cell_type": "code",
   "execution_count": 14,
   "metadata": {},
   "outputs": [
    {
     "data": {
      "text/plain": [
       "0.95"
      ]
     },
     "execution_count": 14,
     "metadata": {},
     "output_type": "execute_result"
    }
   ],
   "source": [
    "from sklearn.metrics import accuracy_score\n",
    "score = model.score(X_val, y_val)\n",
    "round(score,2)"
   ]
  },
  {
   "cell_type": "markdown",
   "metadata": {},
   "source": [
    "## Q5\n",
    "city mpg"
   ]
  },
  {
   "cell_type": "code",
   "execution_count": 15,
   "metadata": {},
   "outputs": [
    {
     "data": {
      "text/plain": [
       "{'year': 0.0016785564414604215,\n",
       " 'engine_hp': 0.022660511959714635,\n",
       " 'transmission_type': 0.0012589173310951773,\n",
       " 'city_mpg': 0.0,\n",
       " 'model': 0.026856903063365523,\n",
       " 'engine_cylinders': 0.0008392782207301552,\n",
       " 'vehicle_style': 0.003776751993285754,\n",
       " 'highway_mpg': 0.004196391103650776,\n",
       " 'normal': 0.0}"
      ]
     },
     "execution_count": 15,
     "metadata": {},
     "output_type": "execute_result"
    }
   ],
   "source": [
    "\n",
    "\n",
    "acc_dict = dict()\n",
    "\n",
    "listofstuff = [['year'],['engine_hp'],['transmission_type'],['city_mpg'],['model'],['engine_cylinders'],['vehicle_style'],['highway_mpg'],['city_mpg']] \n",
    "\n",
    "for target_list in listofstuff:\n",
    "    df_train_t = df_train.drop(target_list,axis=1)\n",
    "    df_val_t = df_val.drop(target_list,axis=1)\n",
    "    train_dictt = df_train_t.to_dict(orient='records')\n",
    "    dvt = DictVectorizer(sparse=False)\n",
    "    X_traint = dvt.fit_transform(train_dictt)\n",
    "    val_dict = df_val_t.to_dict(orient='records')\n",
    "    X_valt = dvt.transform(val_dict)\n",
    "    modeltest = LogisticRegression(solver='liblinear', C=10, max_iter=1000, random_state=42)\n",
    "    modeltest.fit(X_traint,y_train)\n",
    "    scorek = modeltest.score(X_valt, y_val)\n",
    "    acc_dict[target_list[0]]=scorek\n",
    "\n",
    "acc_dict[\"normal\"]=scorek\n",
    "diff_dict = dict()\n",
    "for n in acc_dict.keys():\n",
    "    diff_dict[n] = abs(scorek - acc_dict[n])\n",
    "\n",
    "diff_dict"
   ]
  },
  {
   "cell_type": "markdown",
   "metadata": {},
   "source": [
    "## Q6\n"
   ]
  },
  {
   "cell_type": "code",
   "execution_count": 16,
   "metadata": {},
   "outputs": [],
   "source": [
    "from sklearn import linear_model\n",
    "from sklearn.metrics import accuracy_score\n",
    "from sklearn.linear_model import LogisticRegression\n",
    "from sklearn.model_selection import train_test_split\n",
    "import pandas as pd\n",
    "import numpy as np\n",
    "\n",
    "datasetL = pd.read_csv('data.csv')\n",
    "datasetL = pd.concat([datasetL[intrst_cols], datasetL['MSRP']],axis=1)\n",
    "datasetL.columns = datasetL.columns.str.replace(' ', '_').str.lower()\n",
    "datasetL.rename(columns={'msrp':'price'},inplace=True)\n",
    "datasetL.columns[datasetL.isnull().any(axis=0)]\n",
    "datasetL.fillna(value={'engine_hp':0, 'engine_cylinders':0},inplace=True)\n",
    "datasetL['price'] = np.log(datasetL['price'])"
   ]
  },
  {
   "cell_type": "code",
   "execution_count": 17,
   "metadata": {},
   "outputs": [],
   "source": [
    "df_full_trainL, df_testL = train_test_split(datasetL, test_size=0.2, random_state=42)\n",
    "\n",
    "df_trainL, df_valL = train_test_split(df_full_trainL, test_size=0.25, random_state=42)\n",
    "\n",
    "y_trainL, y_testL, y_valL = df_trainL.price, df_testL.price, df_valL.price \n",
    "\n",
    "del df_trainL['price']\n",
    "del df_testL['price']\n",
    "del df_valL['price']"
   ]
  },
  {
   "cell_type": "code",
   "execution_count": 21,
   "metadata": {},
   "outputs": [],
   "source": [
    "from sklearn.feature_extraction import DictVectorizer\n",
    "dv = DictVectorizer(sparse=True)\n",
    "\n",
    "train_dictL = df_trainL.to_dict(orient='records')\n",
    "\n",
    "X_trainL = dv.fit_transform(train_dictL)\n",
    "\n",
    "val_dictL = df_valL.to_dict(orient='records')\n",
    "X_valL = dv.transform(val_dictL)"
   ]
  },
  {
   "cell_type": "code",
   "execution_count": 25,
   "metadata": {},
   "outputs": [],
   "source": [
    "from sklearn.metrics import mean_squared_error\n",
    "alphas = [0, 0.01, 0.1, 1, 10]\n",
    "rmse_scores = dict()\n",
    "for alph in alphas:\n",
    "    ridge = linear_model.Ridge(alpha=alph, solver='sag', random_state=42)\n",
    "    ridge.fit(X_trainL, y_trainL)\n",
    "    y_predL = ridge.predict(X_valL)\n",
    "    \n",
    "    # Calculate RMSE (Root Mean Squared Error)\n",
    "    rmse = mean_squared_error(y_valL, y_predL,squared=False)\n",
    "    \n",
    "    # Round RMSE to 3 decimal digits\n",
    "    rmse = round(rmse, 3)\n",
    "    \n",
    "    rmse_scores[alph] = rmse\n"
   ]
  }
 ],
 "metadata": {
  "kernelspec": {
   "display_name": "ml-camp",
   "language": "python",
   "name": "python3"
  },
  "language_info": {
   "codemirror_mode": {
    "name": "ipython",
    "version": 3
   },
   "file_extension": ".py",
   "mimetype": "text/x-python",
   "name": "python",
   "nbconvert_exporter": "python",
   "pygments_lexer": "ipython3",
   "version": "3.11.4"
  },
  "orig_nbformat": 4
 },
 "nbformat": 4,
 "nbformat_minor": 2
}
