{
 "cells": [
  {
   "cell_type": "code",
   "execution_count": 26,
   "metadata": {},
   "outputs": [
    {
     "data": {
      "text/plain": [
       "'2.0.3'"
      ]
     },
     "execution_count": 26,
     "metadata": {},
     "output_type": "execute_result"
    }
   ],
   "source": [
    "import pandas as pd\n",
    "pd.__version__"
   ]
  },
  {
   "cell_type": "code",
   "execution_count": 27,
   "metadata": {},
   "outputs": [
    {
     "name": "stderr",
     "output_type": "stream",
     "text": [
      "  % Total    % Received % Xferd  Average Speed   Time    Time     Time  Current\n",
      "                                 Dload  Upload   Total   Spent    Left  Speed\n",
      "\n",
      "  0     0    0     0    0     0      0      0 --:--:-- --:--:-- --:--:--     0\n",
      "  2 1390k    2 32768    0     0  49219      0  0:00:28 --:--:--  0:00:28 49275\n",
      " 83 1390k   83 1156k    0     0   693k      0  0:00:02  0:00:01  0:00:01  694k\n",
      "100 1390k  100 1390k    0     0   675k      0  0:00:02  0:00:02 --:--:--  676k\n"
     ]
    },
    {
     "data": {
      "text/plain": [
       "20640"
      ]
     },
     "execution_count": 27,
     "metadata": {},
     "output_type": "execute_result"
    }
   ],
   "source": [
    "!curl -o data.csv https://raw.githubusercontent.com/alexeygrigorev/datasets/master/housing.csv\n",
    "ourdata = pd.read_csv(\"data.csv\")\n",
    "len(ourdata.index)"
   ]
  },
  {
   "cell_type": "code",
   "execution_count": 39,
   "metadata": {},
   "outputs": [
    {
     "data": {
      "text/plain": [
       "Index(['total_bedrooms'], dtype='object')"
      ]
     },
     "execution_count": 39,
     "metadata": {},
     "output_type": "execute_result"
    }
   ],
   "source": [
    "ourdata.columns[ourdata.isnull().any(axis=0)]\n"
   ]
  },
  {
   "cell_type": "code",
   "execution_count": 29,
   "metadata": {},
   "outputs": [
    {
     "data": {
      "text/plain": [
       "5"
      ]
     },
     "execution_count": 29,
     "metadata": {},
     "output_type": "execute_result"
    }
   ],
   "source": [
    "len(ourdata[\"ocean_proximity\"].unique())"
   ]
  },
  {
   "cell_type": "code",
   "execution_count": 30,
   "metadata": {},
   "outputs": [
    {
     "data": {
      "text/plain": [
       "259212.31179039303"
      ]
     },
     "execution_count": 30,
     "metadata": {},
     "output_type": "execute_result"
    }
   ],
   "source": [
    "ourdata[\"median_house_value\"].where(ourdata[\"ocean_proximity\"]==\"NEAR BAY\").mean()"
   ]
  },
  {
   "cell_type": "code",
   "execution_count": 38,
   "metadata": {},
   "outputs": [
    {
     "data": {
      "text/plain": [
       "537.871"
      ]
     },
     "execution_count": 38,
     "metadata": {},
     "output_type": "execute_result"
    }
   ],
   "source": [
    "avg_ttl_bedrooms = ourdata[\"total_bedrooms\"].mean().round(3)\n",
    "updatedDf = ourdata.fillna(value = {\"total_bedrooms\":avg_ttl_bedrooms})\n",
    "updatedDf[\"total_bedrooms\"].mean().round(3)"
   ]
  },
  {
   "cell_type": "code",
   "execution_count": 37,
   "metadata": {},
   "outputs": [
    {
     "data": {
      "text/plain": [
       "5.6992"
      ]
     },
     "execution_count": 37,
     "metadata": {},
     "output_type": "execute_result"
    }
   ],
   "source": [
    "import numpy as np\n",
    "X = ourdata[ourdata[\"ocean_proximity\"] == \"ISLAND\"][[\"housing_median_age\", \"total_rooms\", \"total_bedrooms\"]].values\n",
    "XTX = X.T.dot(X)\n",
    "XTX_inv = np.linalg.inv(XTX)\n",
    "y = np.array([950, 1300, 800, 1000, 1300])\n",
    "w = XTX_inv.dot(X.T).dot(y)\n",
    "w[-1].round(4)"
   ]
  }
 ],
 "metadata": {
  "kernelspec": {
   "display_name": "ml-camp",
   "language": "python",
   "name": "python3"
  },
  "language_info": {
   "codemirror_mode": {
    "name": "ipython",
    "version": 3
   },
   "file_extension": ".py",
   "mimetype": "text/x-python",
   "name": "python",
   "nbconvert_exporter": "python",
   "pygments_lexer": "ipython3",
   "version": "3.11.4"
  },
  "orig_nbformat": 4
 },
 "nbformat": 4,
 "nbformat_minor": 2
}
